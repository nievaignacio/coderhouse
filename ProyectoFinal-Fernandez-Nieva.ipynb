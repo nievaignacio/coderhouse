{
 "cells": [
  {
   "cell_type": "markdown",
   "id": "f1c83fb7",
   "metadata": {},
   "source": [
    "# Clasificación de Agua Potable \n",
    "\n",
    "### Proyecto Final - Data Sience - CoderHouse 2021\n",
    "\n",
    "#### Autores:  Andrés Fernández  - Ignacio Nieva\n",
    "\n",
    "\n",
    "\n",
    "## Tabla de contenidos\n",
    "\n",
    "1. Descripción del caso de negocio\n",
    "2. Tabla de versionado\n",
    "3. Objetivos del modelo\n",
    "4. Descripción del caso de negocio\n",
    "5. Objetivos del modelo\n",
    "6. Descripción de los datos\n",
    "7. Hallazgos del EDA\n",
    "8. Algoritmo elegido\n",
    "9. Métricas de desempeño\n",
    "10. Optimización\n",
    "11. Futuras líneas\n",
    "12. Conclusiones\n",
    "\n",
    "\n",
    "\n",
    "## Descripción del caso de negocio\n",
    "\n",
    "El acceso al agua potable es esencial para la salud, un derecho humano básico y un componente de una política eficaz de protección de la salud. Esto es importante como cuestión de salud y desarrollo a nivel nacional, regional y local. En algunas regiones, se ha demostrado que las inversiones en abastecimiento de agua y saneamiento pueden producir un beneficio económico neto, ya que las reducciones de los efectos adversos para la salud y los costos de atención de la salud superan los costos de realizar las intervenciones.\n",
    "\n",
    "En este contexto surge la necesidad del análisis y la clasificación de la calidad del agua potable.  \n",
    "\n",
    "## Tabla de versionado\n",
    "\n",
    "| Vsn  | Fecha      | Comentarios               |\n",
    "| ---- | ---------- | ------------------------- |\n",
    "| 1.0  | 17-10-2021 | Compilación de documentos |\n",
    "\n",
    "\n",
    "\n",
    "## Objetivos del modelo\n",
    "\n",
    "El objetivo del modelo es lograr estimar la potabilidad de una muestra de agua conforme a las variables de entradas: PH, hardness, solid, chloramines, sulfate, conductivity, organic carbon, trihalomethanes, turbidity.  \n",
    "\n",
    "## Descripción de los datos \n",
    "\n",
    "Para este ejercicio utilizaremos el dataset publicado en el sitio https://www.kaggle.com/ referencia: https://www.kaggle.com/adityakadiwal/water-potability\n",
    "\n",
    "El archivo water_potability.csv contiene métricas de calidad del agua para 3276 cuerpos de agua diferentes.\n",
    "\n",
    "### Referencias de las columnas\n",
    "\n",
    "#### PH\n",
    "\n",
    "El pH del agua es una métrica importante para determinar su equilibrio ácido-base. También se puede utilizar para determinar si el agua es ácida o alcalina. El límite máximo permitido de pH ha sido establecido en 6.5 a 8.5 por la OMS.\n",
    "\n",
    "#### Hardness (Dureza)\n",
    "\n",
    "Se denomina dureza del agua a la concentración de compuestos minerales que hay en una determinada cantidad de agua, en particular sales de magnesio y calcio.\n",
    "\n",
    "No se ha establecido límite para este parámetro ya que la Organización Mundial de la Salud determina que tanto si la dureza del agua es alta o está en valores bajos no se produce ningún efecto pernicioso para la salud de las personas.\n",
    "\n",
    "#### Solid (Solidos)\n",
    "\n",
    "Potasio, calcio, sodio, bicarbonatos, cloruros, magnesio, sulfatos y otros minerales o sales inorgánicos y orgánicos pueden disolverse en agua. Este es un criterio importante para el uso del agua. La presencia de un alto valor de TDS en el agua sugiere que está muy mineralizada. El límite deseable para TDS es 500 mg/l y el límite máximo es 1000 mg/l.\n",
    "\n",
    "#### Chloramines\n",
    "\n",
    "Los principales desinfectantes utilizados en los sistemas públicos de agua son el cloro y la cloramina. Cuando se agrega amoníaco al cloro para purificar el agua potable, se generan cloraminas. Los niveles de cloro en el agua potable de hasta 4 miligramos por litro (mg / L o 4 partes por millón (ppm)) se consideran seguros.\n",
    "\n",
    "#### Sulfate\n",
    "\n",
    "El nivel máximo de sulfato sugerido por la Organización Mundial de la Salud (OMS) en las Guías para la calidad del agua potable es de 500 mg/l. Las normas de la UE son más completas y estrictas que la OMS, lo que sugiere un máximo de 250 mg/l de sulfato en el agua destinada al consumo humano.\n",
    "\n",
    "#### Conductivity\n",
    "\n",
    "El agua pura es un buen aislante en lugar de un buen conductor de corriente eléctrica. La conductividad eléctrica del agua mejora a medida que aumenta la concentración de iones. La conductividad eléctrica del agua suele estar determinada por la cantidad de partículas disueltas en ella. La conductividad eléctrica (CE) es una medida del proceso iónico de una solución, que le permite transmitir corriente.\n",
    "\n",
    "Las aguas potables de mejor calidad tienen una conductividad de 50-500 mmhos/cm, pero algunas pueden tener valores de hasta 1.000-1.500 mmhos/cm.\n",
    "\n",
    "#### Organic_carbon\n",
    "\n",
    "El carbono orgánico total (COT) en las fuentes de agua proviene de la materia orgánica natural en descomposición (NOM), así como de fuentes sintéticas. TOC es una medida de la cantidad total de carbono en compuestos orgánicos en agua pura.\n",
    "\n",
    "#### Trihalomethanes\n",
    "\n",
    "Los THM son compuestos que se pueden encontrar en el agua tratada con cloro. Los niveles de THM en el agua potable varían según la cantidad de materia orgánica en el agua, la cantidad de cloro necesaria para tratar el agua y la temperatura del agua que se está tratando. Los niveles de THM en el agua potable de hasta 80 ppm se consideran seguros.\n",
    "\n",
    "#### Turbidity\n",
    "\n",
    "La cantidad de materia sólida en estado suspendido determina la turbidez del agua. Es una prueba que determina la calidad de la descarga de residuos en términos de materia coloidal midiendo las propiedades emisoras de luz del agua. El valor recomendado por la OMS de 5,00 NTU.\n",
    "\n",
    "#### Potability\n",
    "\n",
    "Indica el resultado de la clasificación de la muestra.  "
   ]
  },
  {
   "cell_type": "markdown",
   "id": "fd77ca61",
   "metadata": {},
   "source": [
    "## Hallazgos del EDA\n",
    "\n",
    "Realizando el análisis exploratorio de los datos nos encontramos con datos missing dentro de las columnas: Ph, Sulfate y Trihalomethanes  y outliers en todos los feauters."
   ]
  },
  {
   "cell_type": "code",
   "execution_count": 1,
   "id": "f7ff8cd4",
   "metadata": {},
   "outputs": [
    {
     "name": "stdout",
     "output_type": "stream",
     "text": [
      "<class 'pandas.core.frame.DataFrame'>\n",
      "RangeIndex: 3276 entries, 0 to 3275\n",
      "Data columns (total 10 columns):\n",
      " #   Column           Non-Null Count  Dtype  \n",
      "---  ------           --------------  -----  \n",
      " 0   ph               2785 non-null   float64\n",
      " 1   Hardness         3276 non-null   float64\n",
      " 2   Solids           3276 non-null   float64\n",
      " 3   Chloramines      3276 non-null   float64\n",
      " 4   Sulfate          2495 non-null   float64\n",
      " 5   Conductivity     3276 non-null   float64\n",
      " 6   Organic_carbon   3276 non-null   float64\n",
      " 7   Trihalomethanes  3114 non-null   float64\n",
      " 8   Turbidity        3276 non-null   float64\n",
      " 9   Potability       3276 non-null   int64  \n",
      "dtypes: float64(9), int64(1)\n",
      "memory usage: 256.1 KB\n"
     ]
    }
   ],
   "source": [
    "# Importamos las libreria de uso\n",
    "import pandas as pd\n",
    "import matplotlib.pyplot as plt\n",
    "import numpy as np\n",
    "import seaborn as sns\n",
    "from matplotlib.ticker import FormatStrFormatter\n",
    "\n",
    "# Importamos el dataset a un Dataframe de Pandas\n",
    "df = pd.read_csv('./water_potability.csv')\n",
    "\n",
    "#imprimimos la cantidad y tipos de datos de cada columna del dataframe\n",
    "df.info() "
   ]
  },
  {
   "cell_type": "markdown",
   "id": "d69f2a5b",
   "metadata": {},
   "source": [
    "Desde este punto de partida aplicamos distintas estrategias y comparamos resultados en la aplicación del modelo.  \n",
    "\n",
    "Eliminamos los registros con datos missings y los remplazamos por su media.\n",
    "    \n",
    "Comparamos resultados eliminando tanto conservando como eliminando outliers.   \n",
    "\n",
    "Finalmente generamos el dataset  **\"water_potability_clean.csv\"**.  con el remplazo de missigs y outliers cuyo resultando final nos da un dataset 2779 registros, presentando un moderado desbalance. "
   ]
  },
  {
   "cell_type": "code",
   "execution_count": 15,
   "id": "648187ce",
   "metadata": {
    "scrolled": true
   },
   "outputs": [
    {
     "data": {
      "text/plain": [
       "<AxesSubplot:ylabel='Potability'>"
      ]
     },
     "execution_count": 15,
     "metadata": {},
     "output_type": "execute_result"
    },
    {
     "data": {
      "image/png": "[encoded data removed]",
      "text/plain": [
       "<Figure size 432x288 with 1 Axes>"
      ]
     },
     "metadata": {},
     "output_type": "display_data"
    }
   ],
   "source": [
    "data_clean = pd.read_csv('./water_potability_clean.csv')\n",
    "data_clean['Potability'].value_counts().plot.pie(autopct='%.2f')"
   ]
  },
  {
   "cell_type": "markdown",
   "id": "3a930e84",
   "metadata": {},
   "source": [
    "Asimismo analizamos las distribuciones de cada featuer y buscamos correlaciones entre los mismos y nuestra variable targuet.\n",
    "\n",
    "A través de los sucesivos análisis solo hallamos correlaciones débiles al comparar las muestras potables y no potables por separado, las cuales presentan distribuciones similares para cada una de las variables estudiadas. Tampoco logramos observar los patrones esperados en relacion a los limites permisibles de la referencias.  "
   ]
  },
  {
   "cell_type": "code",
   "execution_count": 5,
   "id": "71bef2bc",
   "metadata": {
    "scrolled": true
   },
   "outputs": [
    {
     "data": {
      "text/html": [
       "<div>\n",
       "<style scoped>\n",
       "    .dataframe tbody tr th:only-of-type {\n",
       "        vertical-align: middle;\n",
       "    }\n",
       "\n",
       "    .dataframe tbody tr th {\n",
       "        vertical-align: top;\n",
       "    }\n",
       "\n",
       "    .dataframe thead th {\n",
       "        text-align: right;\n",
       "    }\n",
       "</style>\n",
       "<table border=\"1\" class=\"dataframe\">\n",
       "  <thead>\n",
       "    <tr style=\"text-align: right;\">\n",
       "      <th></th>\n",
       "      <th>min_potable</th>\n",
       "      <th>mean_potable</th>\n",
       "      <th>max_potable</th>\n",
       "      <th>min_no_potable</th>\n",
       "      <th>mean_no_potable</th>\n",
       "      <th>max_no_potable</th>\n",
       "    </tr>\n",
       "  </thead>\n",
       "  <tbody>\n",
       "    <tr>\n",
       "      <th>ph</th>\n",
       "      <td>4.187491</td>\n",
       "      <td>7.048271</td>\n",
       "      <td>9.917092</td>\n",
       "      <td>4.197584</td>\n",
       "      <td>7.075677</td>\n",
       "      <td>9.927024</td>\n",
       "    </tr>\n",
       "    <tr>\n",
       "      <th>Hardness</th>\n",
       "      <td>124.007350</td>\n",
       "      <td>196.796282</td>\n",
       "      <td>272.111698</td>\n",
       "      <td>122.541040</td>\n",
       "      <td>196.577758</td>\n",
       "      <td>270.209549</td>\n",
       "    </tr>\n",
       "    <tr>\n",
       "      <th>Solids</th>\n",
       "      <td>728.750830</td>\n",
       "      <td>21735.816327</td>\n",
       "      <td>43680.222521</td>\n",
       "      <td>320.942611</td>\n",
       "      <td>21355.368846</td>\n",
       "      <td>43195.473668</td>\n",
       "    </tr>\n",
       "    <tr>\n",
       "      <th>Chloramines</th>\n",
       "      <td>3.308977</td>\n",
       "      <td>7.160607</td>\n",
       "      <td>10.886742</td>\n",
       "      <td>3.296157</td>\n",
       "      <td>7.090076</td>\n",
       "      <td>10.908687</td>\n",
       "    </tr>\n",
       "    <tr>\n",
       "      <th>Sulfate</th>\n",
       "      <td>187.170714</td>\n",
       "      <td>333.654394</td>\n",
       "      <td>481.030642</td>\n",
       "      <td>203.444521</td>\n",
       "      <td>334.381716</td>\n",
       "      <td>458.441072</td>\n",
       "    </tr>\n",
       "    <tr>\n",
       "      <th>Conductivity</th>\n",
       "      <td>201.619737</td>\n",
       "      <td>424.321789</td>\n",
       "      <td>649.805765</td>\n",
       "      <td>210.319182</td>\n",
       "      <td>426.540296</td>\n",
       "      <td>652.537592</td>\n",
       "    </tr>\n",
       "    <tr>\n",
       "      <th>Organic_carbon</th>\n",
       "      <td>5.426650</td>\n",
       "      <td>14.211555</td>\n",
       "      <td>22.641598</td>\n",
       "      <td>5.537059</td>\n",
       "      <td>14.357505</td>\n",
       "      <td>23.135952</td>\n",
       "    </tr>\n",
       "    <tr>\n",
       "      <th>Trihalomethanes</th>\n",
       "      <td>27.663174</td>\n",
       "      <td>66.591951</td>\n",
       "      <td>106.037222</td>\n",
       "      <td>27.095703</td>\n",
       "      <td>66.280472</td>\n",
       "      <td>106.371720</td>\n",
       "    </tr>\n",
       "    <tr>\n",
       "      <th>Turbidity</th>\n",
       "      <td>1.917754</td>\n",
       "      <td>3.964830</td>\n",
       "      <td>6.083772</td>\n",
       "      <td>1.872573</td>\n",
       "      <td>3.971746</td>\n",
       "      <td>6.099632</td>\n",
       "    </tr>\n",
       "  </tbody>\n",
       "</table>\n",
       "</div>"
      ],
      "text/plain": [
       "                 min_potable  mean_potable   max_potable  min_no_potable  \\\n",
       "ph                  4.187491      7.048271      9.917092        4.197584   \n",
       "Hardness          124.007350    196.796282    272.111698      122.541040   \n",
       "Solids            728.750830  21735.816327  43680.222521      320.942611   \n",
       "Chloramines         3.308977      7.160607     10.886742        3.296157   \n",
       "Sulfate           187.170714    333.654394    481.030642      203.444521   \n",
       "Conductivity      201.619737    424.321789    649.805765      210.319182   \n",
       "Organic_carbon      5.426650     14.211555     22.641598        5.537059   \n",
       "Trihalomethanes    27.663174     66.591951    106.037222       27.095703   \n",
       "Turbidity           1.917754      3.964830      6.083772        1.872573   \n",
       "\n",
       "                 mean_no_potable  max_no_potable  \n",
       "ph                      7.075677        9.927024  \n",
       "Hardness              196.577758      270.209549  \n",
       "Solids              21355.368846    43195.473668  \n",
       "Chloramines             7.090076       10.908687  \n",
       "Sulfate               334.381716      458.441072  \n",
       "Conductivity          426.540296      652.537592  \n",
       "Organic_carbon         14.357505       23.135952  \n",
       "Trihalomethanes        66.280472      106.371720  \n",
       "Turbidity               3.971746        6.099632  "
      ]
     },
     "execution_count": 5,
     "metadata": {},
     "output_type": "execute_result"
    }
   ],
   "source": [
    "# Tabla compartiva entre el agua portable y la no potable. \n",
    "x_data = data_clean.drop(\"Potability\", axis=1)\n",
    "\n",
    "Potable = x_data[data_clean['Potability'] == 1]\n",
    "No_potable = x_data[data_clean['Potability'] == 0]\n",
    "\n",
    "comp = pd.DataFrame({'min_potable': Potable.min(), 'mean_potable':Potable.mean(), 'max_potable':Potable.max(), 'min_no_potable':No_potable.min(),'mean_no_potable':No_potable.mean(), 'max_no_potable':No_potable.max()})\n",
    "comp"
   ]
  },
  {
   "cell_type": "code",
   "execution_count": 14,
   "id": "504a6c22",
   "metadata": {},
   "outputs": [
    {
     "data": {
      "image/png": "[encoded data removed]",
      "text/plain": [
       "<Figure size 432x288 with 1 Axes>"
      ]
     },
     "metadata": {
      "needs_background": "light"
     },
     "output_type": "display_data"
    },
    {
     "data": {
      "image/png": "[encoded data removed]",
      "text/plain": [
       "<Figure size 432x288 with 1 Axes>"
      ]
     },
     "metadata": {
      "needs_background": "light"
     },
     "output_type": "display_data"
    },
    {
     "data": {
      "image/png": "[encoded data removed]",
      "text/plain": [
       "<Figure size 432x288 with 1 Axes>"
      ]
     },
     "metadata": {
      "needs_background": "light"
     },
     "output_type": "display_data"
    },
    {
     "data": {
      "image/png": "[encoded data removed]",
      "text/plain": [
       "<Figure size 432x288 with 1 Axes>"
      ]
     },
     "metadata": {
      "needs_background": "light"
     },
     "output_type": "display_data"
    },
    {
     "data": {
      "image/png": "[encoded data removed]",
      "text/plain": [
       "<Figure size 432x288 with 1 Axes>"
      ]
     },
     "metadata": {
      "needs_background": "light"
     },
     "output_type": "display_data"
    },
    {
     "data": {
      "image/png": "[encoded data removed]",
      "text/plain": [
       "<Figure size 432x288 with 1 Axes>"
      ]
     },
     "metadata": {
      "needs_background": "light"
     },
     "output_type": "display_data"
    },
    {
     "data": {
      "image/png": "[encoded data removed]",
      "text/plain": [
       "<Figure size 432x288 with 1 Axes>"
      ]
     },
     "metadata": {
      "needs_background": "light"
     },
     "output_type": "display_data"
    },
    {
     "data": {
      "image/png": "[encoded data removed]",
      "text/plain": [
       "<Figure size 432x288 with 1 Axes>"
      ]
     },
     "metadata": {
      "needs_background": "light"
     },
     "output_type": "display_data"
    },
    {
     "data": {
      "image/png": "[encoded data removed]",
      "text/plain": [
       "<Figure size 432x288 with 1 Axes>"
      ]
     },
     "metadata": {
      "needs_background": "light"
     },
     "output_type": "display_data"
    }
   ],
   "source": [
    "# Graficos deistribucion\n",
    "for column in x_data:\n",
    "    sns.histplot(x=column, hue=\"Potability\", data=data_clean)\n",
    "    plt.show()"
   ]
  },
  {
   "cell_type": "code",
   "execution_count": 17,
   "id": "29ec9e45",
   "metadata": {},
   "outputs": [
    {
     "data": {
      "image/png": "[encoded data removed]",
      "text/plain": [
       "<Figure size 600x480 with 2 Axes>"
      ]
     },
     "metadata": {
      "needs_background": "light"
     },
     "output_type": "display_data"
    }
   ],
   "source": [
    "#Mapa de correlaciones para el agua potable\n",
    "\n",
    "plt.figure(dpi = 120,figsize= (5,4))\n",
    "mask = np.triu(np.ones_like(data_clean.corr(),dtype = bool))\n",
    "sns.heatmap(data_clean[data_clean['Potability'] == 1].corr(),mask = mask, fmt = \".2f\",vmin = -1, vmax = +1, annot = True, lw=1,cmap = 'coolwarm')\n",
    "plt.yticks(rotation = 0)\n",
    "plt.xticks(rotation = 90)\n",
    "plt.title('Correlacion Agua Potable')\n",
    "plt.show()\n",
    "\n"
   ]
  },
  {
   "cell_type": "markdown",
   "id": "21bb3cd0",
   "metadata": {},
   "source": [
    "Concluimos entonces que la clasificación del dataset es poco confiable y parecía ser aleatoria. Sin embargo, continuamos hacia el objetivo final aplicando diversos modelos.   \n",
    "\n",
    "El data wrangling y análisis completo se encuentra en el notebook **\"Entrega1-Fernandez-Nieva.ipynb\"**     "
   ]
  },
  {
   "cell_type": "markdown",
   "id": "da60074f",
   "metadata": {},
   "source": [
    "## Algoritmo elegido\n",
    "\n",
    "Habiendo probado varios modelos durante las entregas parciales incluyendo: árbol de dicción, KNN, regresión logística, modelo bayesiano y random forest.  Seleccionamos el ultimo modelo con el algoritmo XGBoost. Sin embargo las métricas de desempeño no varían mucho entre uno y otro modelo lo cual entendemos que se explica por la baja calidad de las clasificaciones en el dataset. \n",
    "\n",
    "Comparativamente en el notebook **\"Entrega2-Fernandez-Nieva.ipynb\"** se encuentra la aplicación del algoritmo Random Forest \n",
    "\n",
    "### Aplicación del Algoritmo XGBoostClassifier"
   ]
  },
  {
   "cell_type": "code",
   "execution_count": 18,
   "id": "43d98254",
   "metadata": {},
   "outputs": [],
   "source": [
    "#Separamos los datos de entrada de la salida en df\n",
    "X = data_clean.drop('Potability', axis=1) #Elimino de mi dataset la variable a predecir\n",
    "y = data_clean.Potability #Defino el Target"
   ]
  },
  {
   "cell_type": "code",
   "execution_count": 19,
   "id": "6b130a54",
   "metadata": {},
   "outputs": [],
   "source": [
    "#Separamos en train y test\n",
    "from sklearn.model_selection import train_test_split"
   ]
  },
  {
   "cell_type": "code",
   "execution_count": 20,
   "id": "076d5219",
   "metadata": {},
   "outputs": [],
   "source": [
    "#Separo los datos de \"train\" en entrenamiento y prueba para probar los algoritmos\n",
    "X_train, X_test, y_train, y_test = train_test_split(X, y, test_size=0.3, random_state=42)"
   ]
  },
  {
   "cell_type": "code",
   "execution_count": 21,
   "id": "603f4626",
   "metadata": {},
   "outputs": [],
   "source": [
    "#creamos un array de las metricas que voy a evaluar en cada modelo\n",
    "metricas=['Accuracy Train','Accuracy Test','Precision Train','Precision Test','Recall Train','Recall Test','F1 Train','F1 Test','Auc']"
   ]
  },
  {
   "cell_type": "code",
   "execution_count": 23,
   "id": "5397f222",
   "metadata": {},
   "outputs": [
    {
     "name": "stdout",
     "output_type": "stream",
     "text": [
      "[17:24:13] WARNING: C:/Users/Administrator/workspace/xgboost-win64_release_1.5.1/src/learner.cc:1115: Starting in XGBoost 1.3.0, the default evaluation metric used with the objective 'binary:logistic' was changed from 'error' to 'logloss'. Explicitly set eval_metric if you'd like to restore the old behavior.\n"
     ]
    },
    {
     "name": "stderr",
     "output_type": "stream",
     "text": [
      "C:\\Users\\nieva\\anaconda3\\lib\\site-packages\\xgboost\\sklearn.py:1224: UserWarning: The use of label encoder in XGBClassifier is deprecated and will be removed in a future release. To remove this warning, do the following: 1) Pass option use_label_encoder=False when constructing XGBClassifier object; and 2) Encode your labels (y) as integers starting with 0, i.e. 0, 1, 2, ..., [num_class - 1].\n",
      "  warnings.warn(label_encoder_deprecation_msg, UserWarning)\n"
     ]
    },
    {
     "data": {
      "text/plain": [
       "XGBClassifier(base_score=0.5, booster='gbtree', colsample_bylevel=1,\n",
       "              colsample_bynode=1, colsample_bytree=1, enable_categorical=False,\n",
       "              gamma=0, gpu_id=-1, importance_type=None,\n",
       "              interaction_constraints='', learning_rate=0.300000012,\n",
       "              max_delta_step=0, max_depth=6, min_child_weight=1, missing=nan,\n",
       "              monotone_constraints='()', n_estimators=10, n_jobs=8,\n",
       "              num_parallel_tree=1, predictor='auto', random_state=123,\n",
       "              reg_alpha=0, reg_lambda=1, scale_pos_weight=1, seed=123,\n",
       "              subsample=1, tree_method='exact', validate_parameters=1,\n",
       "              verbosity=None)"
      ]
     },
     "execution_count": 23,
     "metadata": {},
     "output_type": "execute_result"
    }
   ],
   "source": [
    "import xgboost as xgb\n",
    "modelo_xgb = xgb.XGBClassifier(objective='binary:logistic', n_estimators=10,seed=123)\n",
    "modelo_xgb.fit(X_train,y_train)"
   ]
  },
  {
   "cell_type": "code",
   "execution_count": 24,
   "id": "aca65d17",
   "metadata": {},
   "outputs": [],
   "source": [
    "y_train_pred_XGB = modelo_xgb.predict(X_train) \n",
    "y_test_pred_XGB = modelo_xgb.predict(X_test)"
   ]
  },
  {
   "cell_type": "markdown",
   "id": "5cfdd512",
   "metadata": {},
   "source": [
    "## Métricas de desempeño"
   ]
  },
  {
   "cell_type": "code",
   "execution_count": 25,
   "id": "bfb4e8b4",
   "metadata": {},
   "outputs": [],
   "source": [
    "from sklearn.metrics import accuracy_score\n",
    "from sklearn.metrics import precision_score\n",
    "from sklearn.metrics import recall_score\n",
    "from sklearn.metrics import f1_score\n",
    "from sklearn.metrics import roc_curve, auc"
   ]
  },
  {
   "cell_type": "code",
   "execution_count": 26,
   "id": "a16d99fe",
   "metadata": {},
   "outputs": [
    {
     "name": "stdout",
     "output_type": "stream",
     "text": [
      "% de aciertos sobre el set de entrenamiento con XGBClassifier: 0.8215938303341902\n",
      "% de aciertos sobre el set de evaluación con XGBClassifier: 0.6630695443645084\n"
     ]
    }
   ],
   "source": [
    "#Calculo el accuracy en Train\n",
    "train_accuracy_XGB = accuracy_score(y_train, y_train_pred_XGB)\n",
    "print('% de aciertos sobre el set de entrenamiento con XGBClassifier:',train_accuracy_XGB)\n",
    "#Calculo el accuracy en Test\n",
    "test_accuracy_XGB = accuracy_score(y_test, y_test_pred_XGB)\n",
    "print('% de aciertos sobre el set de evaluación con XGBClassifier:',test_accuracy_XGB)"
   ]
  },
  {
   "cell_type": "code",
   "execution_count": 27,
   "id": "7036e51c",
   "metadata": {},
   "outputs": [
    {
     "name": "stdout",
     "output_type": "stream",
     "text": [
      "Precision Score sobre el set de entrenamiento con XGBClassifier: 0.9468085106382979\n",
      "Precision Score sobre el set de evaluación con XGBClassifier: 0.6127167630057804\n"
     ]
    }
   ],
   "source": [
    "#Calculo precision Score en Train\n",
    "train_precision_XGB = precision_score(y_train, y_train_pred_XGB)\n",
    "print('Precision Score sobre el set de entrenamiento con XGBClassifier:',train_precision_XGB)\n",
    "#Calculo precision Score en Test\n",
    "test_precision_XGB = precision_score(y_test, y_test_pred_XGB)\n",
    "print('Precision Score sobre el set de evaluación con XGBClassifier:',test_precision_XGB)"
   ]
  },
  {
   "cell_type": "code",
   "execution_count": 28,
   "id": "18b346ef",
   "metadata": {},
   "outputs": [
    {
     "name": "stdout",
     "output_type": "stream",
     "text": [
      "Recall Score sobre el set de entrenamiento con XGBClassifier: 0.5801825293350718\n",
      "Recall Score sobre el set de evaluacion con XGBClassifier: 0.5801825293350718\n"
     ]
    }
   ],
   "source": [
    "#Calculo recall Score en Train\n",
    "train_recall_XGB = recall_score(y_train, y_train_pred_XGB)\n",
    "print('Recall Score sobre el set de entrenamiento con XGBClassifier:',train_recall_XGB)\n",
    "#Calculo recall Score en Test\n",
    "test_recall_XGB = recall_score(y_train, y_train_pred_XGB)\n",
    "print('Recall Score sobre el set de evaluacion con XGBClassifier:',test_recall_XGB)"
   ]
  },
  {
   "cell_type": "code",
   "execution_count": 29,
   "id": "853e97c6",
   "metadata": {},
   "outputs": [
    {
     "name": "stdout",
     "output_type": "stream",
     "text": [
      "F1 Score sobre el set de entrenamiento con XGBClassifier: 0.719482619240097\n",
      "F1 Score sobre el set de evaluacion con XGBClassifier: 0.719482619240097\n"
     ]
    }
   ],
   "source": [
    "#Calculo F1 Score en Train\n",
    "train_f1_XGB = f1_score(y_train, y_train_pred_XGB)\n",
    "print('F1 Score sobre el set de entrenamiento con XGBClassifier:',train_f1_XGB)\n",
    "#Calculo F1 Score en Test\n",
    "test_f1_XGB = f1_score(y_train, y_train_pred_XGB)\n",
    "print('F1 Score sobre el set de evaluacion con XGBClassifier:',test_f1_XGB)"
   ]
  },
  {
   "cell_type": "code",
   "execution_count": 30,
   "id": "f6a11dec",
   "metadata": {},
   "outputs": [
    {
     "name": "stdout",
     "output_type": "stream",
     "text": [
      "AUC for our classifier is: 0.6391749756809338\n"
     ]
    }
   ],
   "source": [
    "# Calculo CURVA - ROC\n",
    "class_probabilities = modelo_xgb.predict_proba(X_test)\n",
    "preds_XGB = class_probabilities[:, 1]\n",
    "fpr_XGB, tpr_XGB, threshold = roc_curve(y_test, preds_XGB)\n",
    "roc_auc_XGB = auc(fpr_XGB, tpr_XGB)\n",
    "# AUC\n",
    "print(f\"AUC for our classifier is: {roc_auc_XGB}\")"
   ]
  },
  {
   "cell_type": "code",
   "execution_count": 31,
   "id": "9d159e2e",
   "metadata": {},
   "outputs": [
    {
     "data": {
      "image/png": "[encoded data removed]",
      "text/plain": [
       "<Figure size 432x288 with 1 Axes>"
      ]
     },
     "metadata": {
      "needs_background": "light"
     },
     "output_type": "display_data"
    }
   ],
   "source": [
    "# Gráfica de la Curva ROC\n",
    "plt.title('Gráfica de la Curva ROC')\n",
    "plt.plot(fpr_XGB, tpr_XGB, 'b', label = 'AUC = %0.2f' % roc_auc_XGB)\n",
    "plt.legend(loc = 'lower right')\n",
    "plt.plot([0, 1], [0, 1],'r--')\n",
    "plt.xlim([0, 1])\n",
    "plt.ylim([0, 1])\n",
    "plt.ylabel('Verdaderos Positivos')\n",
    "plt.xlabel('Falsos Positivos')\n",
    "plt.show()"
   ]
  },
  {
   "cell_type": "code",
   "execution_count": 32,
   "id": "a1ceb041",
   "metadata": {},
   "outputs": [
    {
     "data": {
      "text/plain": [
       "Accuracy Train     0.821594\n",
       "Accuracy Test      0.663070\n",
       "Precision Train    0.946809\n",
       "Precision Test     0.612717\n",
       "Recall Train       0.580183\n",
       "Recall Test        0.580183\n",
       "F1 Train           0.719483\n",
       "F1 Test            0.719483\n",
       "Auc                0.639175\n",
       "dtype: float64"
      ]
     },
     "execution_count": 32,
     "metadata": {},
     "output_type": "execute_result"
    }
   ],
   "source": [
    "metricas_XGB = [train_accuracy_XGB, test_accuracy_XGB,train_precision_XGB,test_precision_XGB,train_recall_XGB,test_recall_XGB,train_f1_XGB,test_f1_XGB,roc_auc_XGB] \n",
    "Valores_XGB = pd.Series(metricas_XGB,index=metricas)\n",
    "Valores_XGB"
   ]
  },
  {
   "cell_type": "markdown",
   "id": "26f3dcbc",
   "metadata": {},
   "source": [
    "## Optimizacion"
   ]
  },
  {
   "cell_type": "code",
   "execution_count": 34,
   "id": "99fc468a",
   "metadata": {},
   "outputs": [],
   "source": [
    "from sklearn.model_selection import GridSearchCV\n",
    "from sklearn.model_selection import train_test_split\n",
    "from sklearn.preprocessing import StandardScaler\n",
    "from sklearn.pipeline import Pipeline\n",
    "from sklearn.model_selection import RandomizedSearchCV\n",
    "from xgboost import XGBClassifier"
   ]
  },
  {
   "cell_type": "code",
   "execution_count": 35,
   "id": "b62186af",
   "metadata": {},
   "outputs": [],
   "source": [
    "#Aplicamos Grid Search para buscar mejores Hiperparametros\n",
    "xgb_pipeline = Pipeline([('scaler', StandardScaler()), ('classifier',XGBClassifier())])\n",
    "gbm_param_grid = {\n",
    "    'classifier__learning_rate': np.array([0.01,0.001]),\n",
    "    'classifier__n_estimators': np.array([100,200,300,400]),\n",
    "    'classifier__subsample': np.array([0.7,0.8,0.9]),\n",
    "    'classifier__max_depth': np.array([10,11,12,13,14,15,16,17]),\n",
    "    'classifier__lambda': np.array([1]),\n",
    "    'classifier__gamma': np.array([0])\n",
    "   \n",
    "}\n",
    "grid_search_xgb = GridSearchCV(estimator=xgb_pipeline, param_grid=gbm_param_grid, n_jobs= -1,\n",
    "                         scoring='accuracy', verbose=10)\n",
    "#Definicion de Hyperparámetros param_grid = {'alpha':,'min_child_weight':,'subsample':,'eta':,'num_round':}\n",
    "#Utilizamos la grilla definida anteriormente..."
   ]
  },
  {
   "cell_type": "code",
   "execution_count": 36,
   "id": "40c98af6",
   "metadata": {},
   "outputs": [
    {
     "name": "stdout",
     "output_type": "stream",
     "text": [
      "Fitting 5 folds for each of 192 candidates, totalling 960 fits\n"
     ]
    },
    {
     "name": "stderr",
     "output_type": "stream",
     "text": [
      "C:\\Users\\nieva\\anaconda3\\lib\\site-packages\\xgboost\\sklearn.py:1224: UserWarning: The use of label encoder in XGBClassifier is deprecated and will be removed in a future release. To remove this warning, do the following: 1) Pass option use_label_encoder=False when constructing XGBClassifier object; and 2) Encode your labels (y) as integers starting with 0, i.e. 0, 1, 2, ..., [num_class - 1].\n",
      "  warnings.warn(label_encoder_deprecation_msg, UserWarning)\n"
     ]
    },
    {
     "name": "stdout",
     "output_type": "stream",
     "text": [
      "[17:40:37] WARNING: C:/Users/Administrator/workspace/xgboost-win64_release_1.5.1/src/learner.cc:1115: Starting in XGBoost 1.3.0, the default evaluation metric used with the objective 'binary:logistic' was changed from 'error' to 'logloss'. Explicitly set eval_metric if you'd like to restore the old behavior.\n"
     ]
    },
    {
     "data": {
      "text/plain": [
       "GridSearchCV(estimator=Pipeline(steps=[('scaler', StandardScaler()),\n",
       "                                       ('classifier',\n",
       "                                        XGBClassifier(base_score=None,\n",
       "                                                      booster=None,\n",
       "                                                      colsample_bylevel=None,\n",
       "                                                      colsample_bynode=None,\n",
       "                                                      colsample_bytree=None,\n",
       "                                                      enable_categorical=False,\n",
       "                                                      gamma=None, gpu_id=None,\n",
       "                                                      importance_type=None,\n",
       "                                                      interaction_constraints=None,\n",
       "                                                      learning_rate=None,\n",
       "                                                      max_delta_step=None,\n",
       "                                                      max_depth=None,\n",
       "                                                      min_chi...\n",
       "                                                      validate_parameters=None,\n",
       "                                                      verbosity=None))]),\n",
       "             n_jobs=-1,\n",
       "             param_grid={'classifier__gamma': array([0]),\n",
       "                         'classifier__lambda': array([1]),\n",
       "                         'classifier__learning_rate': array([0.01 , 0.001]),\n",
       "                         'classifier__max_depth': array([10, 11, 12, 13, 14, 15, 16, 17]),\n",
       "                         'classifier__n_estimators': array([100, 200, 300, 400]),\n",
       "                         'classifier__subsample': array([0.7, 0.8, 0.9])},\n",
       "             scoring='accuracy', verbose=10)"
      ]
     },
     "execution_count": 36,
     "metadata": {},
     "output_type": "execute_result"
    }
   ],
   "source": [
    "grid_search_xgb.fit(X_train,y_train)"
   ]
  },
  {
   "cell_type": "code",
   "execution_count": 49,
   "id": "a2e7f18b",
   "metadata": {},
   "outputs": [
    {
     "name": "stdout",
     "output_type": "stream",
     "text": [
      "{'classifier__gamma': 0, 'classifier__lambda': 1, 'classifier__learning_rate': 0.01, 'classifier__max_depth': 13, 'classifier__n_estimators': 100, 'classifier__subsample': 0.8}\n"
     ]
    }
   ],
   "source": [
    "print(grid_search_xgb.best_params_)\n",
    "#y_train_pred_XGB = model.predict(X_train) \n",
    "#y_test_pred_XGB = model.predict(X_test)"
   ]
  },
  {
   "cell_type": "code",
   "execution_count": 38,
   "id": "db526ef8",
   "metadata": {},
   "outputs": [
    {
     "name": "stdout",
     "output_type": "stream",
     "text": [
      "0.6714628297362111\n"
     ]
    }
   ],
   "source": [
    "print(grid_search_xgb.score(X_test,y_test))"
   ]
  },
  {
   "cell_type": "code",
   "execution_count": 39,
   "id": "e386cb3c",
   "metadata": {},
   "outputs": [
    {
     "name": "stdout",
     "output_type": "stream",
     "text": [
      "[17:40:38] WARNING: C:/Users/Administrator/workspace/xgboost-win64_release_1.5.1/src/learner.cc:1115: Starting in XGBoost 1.3.0, the default evaluation metric used with the objective 'binary:logistic' was changed from 'error' to 'logloss'. Explicitly set eval_metric if you'd like to restore the old behavior.\n"
     ]
    },
    {
     "name": "stderr",
     "output_type": "stream",
     "text": [
      "C:\\Users\\nieva\\anaconda3\\lib\\site-packages\\xgboost\\sklearn.py:1224: UserWarning: The use of label encoder in XGBClassifier is deprecated and will be removed in a future release. To remove this warning, do the following: 1) Pass option use_label_encoder=False when constructing XGBClassifier object; and 2) Encode your labels (y) as integers starting with 0, i.e. 0, 1, 2, ..., [num_class - 1].\n",
      "  warnings.warn(label_encoder_deprecation_msg, UserWarning)\n"
     ]
    },
    {
     "data": {
      "text/plain": [
       "XGBClassifier(base_score=0.5, booster='gbtree', colsample_bylevel=1,\n",
       "              colsample_bynode=1, colsample_bytree=1, enable_categorical=False,\n",
       "              gamma=0, gpu_id=-1, importance_type=None,\n",
       "              interaction_constraints='', learning_rate=0.01, max_delta_step=0,\n",
       "              max_depth=13, min_child_weight=1, missing=nan,\n",
       "              monotone_constraints='()', n_estimators=100, n_jobs=8,\n",
       "              num_parallel_tree=1, predictor='auto', random_state=123,\n",
       "              reg_alpha=0, reg_lambda=1, scale_pos_weight=1, seed=123,\n",
       "              subsample=0.8, tree_method='exact', validate_parameters=1,\n",
       "              verbosity=None)"
      ]
     },
     "execution_count": 39,
     "metadata": {},
     "output_type": "execute_result"
    }
   ],
   "source": [
    "#Pruebo el mejor modelo para ver todas las metricas\n",
    "modelo_xgb_best = xgb.XGBClassifier(gamma=0,learning_rate=0.01, objective='binary:logistic',max_depth=13, n_estimators=100, subsample=0.8, seed=123)\n",
    "modelo_xgb_best.fit(X_train,y_train)"
   ]
  },
  {
   "cell_type": "code",
   "execution_count": 40,
   "id": "8d10d3df",
   "metadata": {},
   "outputs": [],
   "source": [
    "y_train_pred_best = modelo_xgb_best.predict(X_train) \n",
    "y_test_pred_best = modelo_xgb_best.predict(X_test)"
   ]
  },
  {
   "cell_type": "markdown",
   "id": "94e9d749",
   "metadata": {},
   "source": [
    "### Nuevas Metricas"
   ]
  },
  {
   "cell_type": "code",
   "execution_count": 41,
   "id": "3742822e",
   "metadata": {},
   "outputs": [
    {
     "name": "stdout",
     "output_type": "stream",
     "text": [
      "% de aciertos sobre el set de entrenamiento con XGBClassifier: 0.9598971722365038\n",
      "% de aciertos sobre el set de evaluación con XGBClassifier: 0.684652278177458\n"
     ]
    }
   ],
   "source": [
    "#Calculo el accuracy en Train\n",
    "train_accuracy_best = accuracy_score(y_train, y_train_pred_best)\n",
    "print('% de aciertos sobre el set de entrenamiento con XGBClassifier:',train_accuracy_best)\n",
    "#Calculo el accuracy en Test\n",
    "test_accuracy_best= accuracy_score(y_test, y_test_pred_best)\n",
    "print('% de aciertos sobre el set de evaluación con XGBClassifier:',test_accuracy_best)"
   ]
  },
  {
   "cell_type": "code",
   "execution_count": 42,
   "id": "4c76ab5e",
   "metadata": {},
   "outputs": [
    {
     "name": "stdout",
     "output_type": "stream",
     "text": [
      "Precision Score sobre el set de entrenamiento con XGBClassifier: 0.99568345323741\n",
      "Precision Score sobre el set de evaluación con XGBClassifier: 0.6706586826347305\n"
     ]
    }
   ],
   "source": [
    "#Calculo precision Score en Train\n",
    "train_precision_best = precision_score(y_train, y_train_pred_best)\n",
    "print('Precision Score sobre el set de entrenamiento con XGBClassifier:',train_precision_best)\n",
    "#Calculo precision Score en Test\n",
    "test_precision_best = precision_score(y_test, y_test_pred_best)\n",
    "print('Precision Score sobre el set de evaluación con XGBClassifier:',test_precision_best)"
   ]
  },
  {
   "cell_type": "code",
   "execution_count": 43,
   "id": "33b33c48",
   "metadata": {},
   "outputs": [
    {
     "name": "stdout",
     "output_type": "stream",
     "text": [
      "Recall Score sobre el set de entrenamiento con XGBClassifier: 0.9022164276401564\n",
      "Recall Score sobre el set de evaluacion con XGBClassifier: 0.9022164276401564\n"
     ]
    }
   ],
   "source": [
    "#Calculo recall Score en Train\n",
    "train_recall_best = recall_score(y_train, y_train_pred_best)\n",
    "print('Recall Score sobre el set de entrenamiento con XGBClassifier:',train_recall_best)\n",
    "#Calculo recall Score en Test\n",
    "test_recall_best = recall_score(y_train, y_train_pred_best)\n",
    "print('Recall Score sobre el set de evaluacion con XGBClassifier:',test_recall_best)"
   ]
  },
  {
   "cell_type": "code",
   "execution_count": 44,
   "id": "6277051b",
   "metadata": {},
   "outputs": [
    {
     "name": "stdout",
     "output_type": "stream",
     "text": [
      "F1 Score sobre el set de entrenamiento con XGBClassifier: 0.9466484268125854\n",
      "F1 Score sobre el set de evaluacion con XGBClassifier: 0.9466484268125854\n"
     ]
    }
   ],
   "source": [
    "#Calculo F1 Score en Train\n",
    "train_f1_best = f1_score(y_train, y_train_pred_best)\n",
    "print('F1 Score sobre el set de entrenamiento con XGBClassifier:',train_f1_best)\n",
    "#Calculo F1 Score en Test\n",
    "test_f1_best = f1_score(y_train, y_train_pred_best)\n",
    "print('F1 Score sobre el set de evaluacion con XGBClassifier:',test_f1_best)"
   ]
  },
  {
   "cell_type": "code",
   "execution_count": 45,
   "id": "135d4fc6",
   "metadata": {},
   "outputs": [
    {
     "name": "stdout",
     "output_type": "stream",
     "text": [
      "AUC for our classifier is: 0.6391749756809338\n"
     ]
    }
   ],
   "source": [
    "# Calculo CURVA - ROC\n",
    "class_probabilities_best = modelo_xgb.predict_proba(X_test)\n",
    "preds_best = class_probabilities_best[:, 1]\n",
    "fpr_best, tpr_best, threshold = roc_curve(y_test, preds_best)\n",
    "roc_auc_best = auc(fpr_best, tpr_best)\n",
    "# AUC\n",
    "print(f\"AUC for our classifier is: {roc_auc_best}\")"
   ]
  },
  {
   "cell_type": "code",
   "execution_count": 46,
   "id": "6af10d5b",
   "metadata": {},
   "outputs": [
    {
     "data": {
      "image/png": "[encoded data removed]",
      "text/plain": [
       "<Figure size 432x288 with 1 Axes>"
      ]
     },
     "metadata": {
      "needs_background": "light"
     },
     "output_type": "display_data"
    }
   ],
   "source": [
    "# Gráfica de la Curva ROC\n",
    "plt.title('Gráfica de la Curva ROC')\n",
    "plt.plot(fpr_best, tpr_best, 'b', label = 'AUC = %0.2f' % roc_auc_best)\n",
    "plt.legend(loc = 'lower right')\n",
    "plt.plot([0, 1], [0, 1],'r--')\n",
    "plt.xlim([0, 1])\n",
    "plt.ylim([0, 1])\n",
    "plt.ylabel('Verdaderos Positivos')\n",
    "plt.xlabel('Falsos Positivos')\n",
    "plt.show()"
   ]
  },
  {
   "cell_type": "code",
   "execution_count": 47,
   "id": "037c67e8",
   "metadata": {},
   "outputs": [
    {
     "data": {
      "text/plain": [
       "Accuracy Train     0.959897\n",
       "Accuracy Test      0.684652\n",
       "Precision Train    0.995683\n",
       "Precision Test     0.670659\n",
       "Recall Train       0.902216\n",
       "Recall Test        0.902216\n",
       "F1 Train           0.946648\n",
       "F1 Test            0.946648\n",
       "Auc                0.639175\n",
       "dtype: float64"
      ]
     },
     "execution_count": 47,
     "metadata": {},
     "output_type": "execute_result"
    }
   ],
   "source": [
    "metricas_best = [train_accuracy_best, test_accuracy_best,train_precision_best,test_precision_best,train_recall_best,test_recall_best,train_f1_best,test_f1_best,roc_auc_best] \n",
    "Valores_best = pd.Series(metricas_best,index=metricas)\n",
    "Valores_best"
   ]
  },
  {
   "cell_type": "code",
   "execution_count": 48,
   "id": "c447c664",
   "metadata": {},
   "outputs": [
    {
     "data": {
      "text/html": [
       "<div>\n",
       "<style scoped>\n",
       "    .dataframe tbody tr th:only-of-type {\n",
       "        vertical-align: middle;\n",
       "    }\n",
       "\n",
       "    .dataframe tbody tr th {\n",
       "        vertical-align: top;\n",
       "    }\n",
       "\n",
       "    .dataframe thead th {\n",
       "        text-align: right;\n",
       "    }\n",
       "</style>\n",
       "<table border=\"1\" class=\"dataframe\">\n",
       "  <thead>\n",
       "    <tr style=\"text-align: right;\">\n",
       "      <th></th>\n",
       "      <th>XGB</th>\n",
       "      <th>XGB mejorado</th>\n",
       "    </tr>\n",
       "  </thead>\n",
       "  <tbody>\n",
       "    <tr>\n",
       "      <th>Accuracy Train</th>\n",
       "      <td>0.821594</td>\n",
       "      <td>0.959897</td>\n",
       "    </tr>\n",
       "    <tr>\n",
       "      <th>Accuracy Test</th>\n",
       "      <td>0.663070</td>\n",
       "      <td>0.684652</td>\n",
       "    </tr>\n",
       "    <tr>\n",
       "      <th>Precision Train</th>\n",
       "      <td>0.946809</td>\n",
       "      <td>0.995683</td>\n",
       "    </tr>\n",
       "    <tr>\n",
       "      <th>Precision Test</th>\n",
       "      <td>0.612717</td>\n",
       "      <td>0.670659</td>\n",
       "    </tr>\n",
       "    <tr>\n",
       "      <th>Recall Train</th>\n",
       "      <td>0.580183</td>\n",
       "      <td>0.902216</td>\n",
       "    </tr>\n",
       "    <tr>\n",
       "      <th>Recall Test</th>\n",
       "      <td>0.580183</td>\n",
       "      <td>0.902216</td>\n",
       "    </tr>\n",
       "    <tr>\n",
       "      <th>F1 Train</th>\n",
       "      <td>0.719483</td>\n",
       "      <td>0.946648</td>\n",
       "    </tr>\n",
       "    <tr>\n",
       "      <th>F1 Test</th>\n",
       "      <td>0.719483</td>\n",
       "      <td>0.946648</td>\n",
       "    </tr>\n",
       "    <tr>\n",
       "      <th>Auc</th>\n",
       "      <td>0.639175</td>\n",
       "      <td>0.639175</td>\n",
       "    </tr>\n",
       "  </tbody>\n",
       "</table>\n",
       "</div>"
      ],
      "text/plain": [
       "                      XGB  XGB mejorado\n",
       "Accuracy Train   0.821594      0.959897\n",
       "Accuracy Test    0.663070      0.684652\n",
       "Precision Train  0.946809      0.995683\n",
       "Precision Test   0.612717      0.670659\n",
       "Recall Train     0.580183      0.902216\n",
       "Recall Test      0.580183      0.902216\n",
       "F1 Train         0.719483      0.946648\n",
       "F1 Test          0.719483      0.946648\n",
       "Auc              0.639175      0.639175"
      ]
     },
     "execution_count": 48,
     "metadata": {},
     "output_type": "execute_result"
    }
   ],
   "source": [
    "comparativo = pd.DataFrame({'XGB':Valores_XGB,'XGB mejorado':Valores_best,})\n",
    "comparativo"
   ]
  },
  {
   "cell_type": "markdown",
   "id": "0b58c8f2",
   "metadata": {},
   "source": [
    "## Futuras líneas\n",
    "\n",
    "Habiendo realizado un análisis exhaustivo y testeado varios modelos y algoritmos creemos que el dataset utilizado no amerita mayor profundización.  Si bien podría ser interesante aplicar redes neuronales a este problema creemos que seria necesario contar con datos mas confiables para hacer una mejor aproximación al objetivo final. \n",
    "\n",
    "## Conclusiones\n",
    "\n",
    "El algoritmo seleccionado, así cómo los previamente testeados no consiguieron buenas métricas de desempeño producto de la baja calidad de los datos. El análisis realizado así lo demuestra. Debemos concluir en consecuencia que el objetivo final no puede ser alcanzado con una mayor fiabilidad este set de datos.   "
   ]
  },
  {
   "cell_type": "code",
   "execution_count": null,
   "id": "e3c99aa9",
   "metadata": {},
   "outputs": [],
   "source": []
  }
 ],
 "metadata": {
  "kernelspec": {
   "display_name": "Python 3",
   "language": "python",
   "name": "python3"
  },
  "language_info": {
   "codemirror_mode": {
    "name": "ipython",
    "version": 3
   },
   "file_extension": ".py",
   "mimetype": "text/x-python",
   "name": "python",
   "nbconvert_exporter": "python",
   "pygments_lexer": "ipython3",
   "version": "3.8.8"
  }
 },
 "nbformat": 4,
 "nbformat_minor": 5
}
