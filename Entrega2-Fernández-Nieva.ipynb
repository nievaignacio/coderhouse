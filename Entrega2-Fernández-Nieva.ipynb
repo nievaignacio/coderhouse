{
 "cells": [
  {
   "cell_type": "markdown",
   "id": "6621acb8",
   "metadata": {},
   "source": [
    "# Clasificación de Agua Potable \n",
    "\n",
    "## Segunda Entrega - CoderHouse - 2021\n",
    "\n",
    "## Autores:  Andrés Fernández  - Ignacio Nieva\n",
    "\n",
    "## Introducción\n",
    "\n",
    "En este documento vamos a utilizar el dataset ya procesado de nombre **\"water_potability_clean.csv\"**. Este es el resultado obtenido del nootebook de nombre **\"Entrega1-Fernandez-Nieva.ipynb\"** donde se realizo el data wrangling y el analisis exploratorio de datos en el set de datos originales proveniente del archivo de nombre **\"water_potability.csv\"**.Por cualquier inquietud se puede visualizar el analisis dentro del notebook correspondiente.\n",
    "En esta entrega elegimos aplicar el Modelo Random Forest classifier y llevar adelante el analisis correpondiente que detallamos debajo.\n",
    "\n",
    "## Indice General\n",
    "\n",
    "### Importación de librerias.\n",
    "### Importación del dataset. \n",
    "### Selección de las features.\n",
    "### Definición de la variable Target Potability.\n",
    "### Separación de datos en Entrenamiento y Prueba.\n",
    "### Creación del Algoritmo Random Forest. \n",
    "### Entrenamiento del Algoritmo Random Forest.\n",
    "### Predicción del Algoritmo Random Forest sobre Entrenamiento y Prueba.\n",
    "### Matriz de confusión.\n",
    "### Métrica Accurracy.\n",
    "### Métrica Precision.\n",
    "### Métrica Recall.\n",
    "### Métrica F1 score.\n",
    "### Métrica Curva Roc.\n",
    "### Grafica Curva Roc.\n",
    "### Conclusiones.\n",
    "\n"
   ]
  },
  {
   "cell_type": "markdown",
   "id": "9f196b19",
   "metadata": {},
   "source": [
    "\n",
    "# Importamos librerias"
   ]
  },
  {
   "cell_type": "code",
   "execution_count": 1,
   "id": "62a8d8bb",
   "metadata": {},
   "outputs": [],
   "source": [
    "# Importamos las libreria de uso\n",
    "import pandas as pd\n",
    "import matplotlib.pyplot as plt\n",
    "import numpy as np\n",
    "import seaborn as sns\n",
    "from matplotlib.ticker import FormatStrFormatter\n",
    "#Importamos train y test split\n",
    "from sklearn.model_selection import train_test_split\n",
    "from sklearn.ensemble import RandomForestClassifier"
   ]
  },
  {
   "cell_type": "code",
   "execution_count": 2,
   "id": "0136d3bf",
   "metadata": {},
   "outputs": [],
   "source": [
    "from sklearn.metrics import accuracy_score\n",
    "from sklearn.metrics import precision_score\n",
    "from sklearn.metrics import recall_score\n",
    "from sklearn.metrics import f1_score\n",
    "from sklearn.metrics import roc_curve, auc\n",
    "#Matriz de Confusión\n",
    "from sklearn.metrics import confusion_matrix\n",
    "from sklearn.metrics import plot_confusion_matrix\n",
    "from sklearn.model_selection import train_test_split"
   ]
  },
  {
   "cell_type": "markdown",
   "id": "dd8dd52d",
   "metadata": {},
   "source": [
    "# Importamos el dataset "
   ]
  },
  {
   "cell_type": "code",
   "execution_count": 3,
   "id": "3408b9f8",
   "metadata": {},
   "outputs": [
    {
     "data": {
      "text/html": [
       "<div>\n",
       "<style scoped>\n",
       "    .dataframe tbody tr th:only-of-type {\n",
       "        vertical-align: middle;\n",
       "    }\n",
       "\n",
       "    .dataframe tbody tr th {\n",
       "        vertical-align: top;\n",
       "    }\n",
       "\n",
       "    .dataframe thead th {\n",
       "        text-align: right;\n",
       "    }\n",
       "</style>\n",
       "<table border=\"1\" class=\"dataframe\">\n",
       "  <thead>\n",
       "    <tr style=\"text-align: right;\">\n",
       "      <th></th>\n",
       "      <th>ph</th>\n",
       "      <th>Hardness</th>\n",
       "      <th>Solids</th>\n",
       "      <th>Chloramines</th>\n",
       "      <th>Sulfate</th>\n",
       "      <th>Conductivity</th>\n",
       "      <th>Organic_carbon</th>\n",
       "      <th>Trihalomethanes</th>\n",
       "      <th>Turbidity</th>\n",
       "      <th>Potability</th>\n",
       "    </tr>\n",
       "  </thead>\n",
       "  <tbody>\n",
       "    <tr>\n",
       "      <th>0</th>\n",
       "      <td>7.080795</td>\n",
       "      <td>204.890455</td>\n",
       "      <td>20791.318981</td>\n",
       "      <td>7.300212</td>\n",
       "      <td>368.516441</td>\n",
       "      <td>564.308654</td>\n",
       "      <td>10.379783</td>\n",
       "      <td>86.990970</td>\n",
       "      <td>2.963135</td>\n",
       "      <td>0</td>\n",
       "    </tr>\n",
       "    <tr>\n",
       "      <th>1</th>\n",
       "      <td>8.099124</td>\n",
       "      <td>224.236259</td>\n",
       "      <td>19909.541732</td>\n",
       "      <td>9.275884</td>\n",
       "      <td>333.775777</td>\n",
       "      <td>418.606213</td>\n",
       "      <td>16.868637</td>\n",
       "      <td>66.420093</td>\n",
       "      <td>3.055934</td>\n",
       "      <td>0</td>\n",
       "    </tr>\n",
       "    <tr>\n",
       "      <th>2</th>\n",
       "      <td>8.316766</td>\n",
       "      <td>214.373394</td>\n",
       "      <td>22018.417441</td>\n",
       "      <td>8.059332</td>\n",
       "      <td>356.886136</td>\n",
       "      <td>363.266516</td>\n",
       "      <td>18.436524</td>\n",
       "      <td>100.341674</td>\n",
       "      <td>4.628771</td>\n",
       "      <td>0</td>\n",
       "    </tr>\n",
       "    <tr>\n",
       "      <th>3</th>\n",
       "      <td>9.092223</td>\n",
       "      <td>181.101509</td>\n",
       "      <td>17978.986339</td>\n",
       "      <td>6.546600</td>\n",
       "      <td>310.135738</td>\n",
       "      <td>398.410813</td>\n",
       "      <td>11.558279</td>\n",
       "      <td>31.997993</td>\n",
       "      <td>4.075075</td>\n",
       "      <td>0</td>\n",
       "    </tr>\n",
       "    <tr>\n",
       "      <th>4</th>\n",
       "      <td>5.584087</td>\n",
       "      <td>188.313324</td>\n",
       "      <td>28748.687739</td>\n",
       "      <td>7.544869</td>\n",
       "      <td>326.678363</td>\n",
       "      <td>280.467916</td>\n",
       "      <td>8.399735</td>\n",
       "      <td>54.917862</td>\n",
       "      <td>2.559708</td>\n",
       "      <td>0</td>\n",
       "    </tr>\n",
       "  </tbody>\n",
       "</table>\n",
       "</div>"
      ],
      "text/plain": [
       "         ph    Hardness        Solids  Chloramines     Sulfate  Conductivity  \\\n",
       "0  7.080795  204.890455  20791.318981     7.300212  368.516441    564.308654   \n",
       "1  8.099124  224.236259  19909.541732     9.275884  333.775777    418.606213   \n",
       "2  8.316766  214.373394  22018.417441     8.059332  356.886136    363.266516   \n",
       "3  9.092223  181.101509  17978.986339     6.546600  310.135738    398.410813   \n",
       "4  5.584087  188.313324  28748.687739     7.544869  326.678363    280.467916   \n",
       "\n",
       "   Organic_carbon  Trihalomethanes  Turbidity  Potability  \n",
       "0       10.379783        86.990970   2.963135           0  \n",
       "1       16.868637        66.420093   3.055934           0  \n",
       "2       18.436524       100.341674   4.628771           0  \n",
       "3       11.558279        31.997993   4.075075           0  \n",
       "4        8.399735        54.917862   2.559708           0  "
      ]
     },
     "execution_count": 3,
     "metadata": {},
     "output_type": "execute_result"
    }
   ],
   "source": [
    "# Importamos el dataset a un Dataframe de Pandas\n",
    "data_clean = pd.read_csv('./Datos/water_potability_clean.csv')\n",
    "# Examinamos una muestra del dataset\n",
    "data_clean.head()"
   ]
  },
  {
   "cell_type": "code",
   "execution_count": 4,
   "id": "02962367",
   "metadata": {},
   "outputs": [
    {
     "data": {
      "text/html": [
       "<div>\n",
       "<style scoped>\n",
       "    .dataframe tbody tr th:only-of-type {\n",
       "        vertical-align: middle;\n",
       "    }\n",
       "\n",
       "    .dataframe tbody tr th {\n",
       "        vertical-align: top;\n",
       "    }\n",
       "\n",
       "    .dataframe thead th {\n",
       "        text-align: right;\n",
       "    }\n",
       "</style>\n",
       "<table border=\"1\" class=\"dataframe\">\n",
       "  <thead>\n",
       "    <tr style=\"text-align: right;\">\n",
       "      <th></th>\n",
       "      <th>ph</th>\n",
       "      <th>Hardness</th>\n",
       "      <th>Solids</th>\n",
       "      <th>Chloramines</th>\n",
       "      <th>Sulfate</th>\n",
       "      <th>Conductivity</th>\n",
       "      <th>Organic_carbon</th>\n",
       "      <th>Trihalomethanes</th>\n",
       "      <th>Turbidity</th>\n",
       "      <th>Potability</th>\n",
       "    </tr>\n",
       "  </thead>\n",
       "  <tbody>\n",
       "    <tr>\n",
       "      <th>count</th>\n",
       "      <td>2779.00</td>\n",
       "      <td>2779.00</td>\n",
       "      <td>2779.00</td>\n",
       "      <td>2779.00</td>\n",
       "      <td>2779.00</td>\n",
       "      <td>2779.00</td>\n",
       "      <td>2779.00</td>\n",
       "      <td>2779.00</td>\n",
       "      <td>2779.00</td>\n",
       "      <td>2779.00</td>\n",
       "    </tr>\n",
       "    <tr>\n",
       "      <th>mean</th>\n",
       "      <td>7.06</td>\n",
       "      <td>196.66</td>\n",
       "      <td>21504.18</td>\n",
       "      <td>7.12</td>\n",
       "      <td>334.10</td>\n",
       "      <td>425.67</td>\n",
       "      <td>14.30</td>\n",
       "      <td>66.40</td>\n",
       "      <td>3.97</td>\n",
       "      <td>0.39</td>\n",
       "    </tr>\n",
       "    <tr>\n",
       "      <th>std</th>\n",
       "      <td>1.15</td>\n",
       "      <td>28.17</td>\n",
       "      <td>7956.40</td>\n",
       "      <td>1.43</td>\n",
       "      <td>34.79</td>\n",
       "      <td>79.91</td>\n",
       "      <td>3.20</td>\n",
       "      <td>14.89</td>\n",
       "      <td>0.76</td>\n",
       "      <td>0.49</td>\n",
       "    </tr>\n",
       "    <tr>\n",
       "      <th>min</th>\n",
       "      <td>4.19</td>\n",
       "      <td>122.54</td>\n",
       "      <td>320.94</td>\n",
       "      <td>3.30</td>\n",
       "      <td>187.17</td>\n",
       "      <td>201.62</td>\n",
       "      <td>5.43</td>\n",
       "      <td>27.10</td>\n",
       "      <td>1.87</td>\n",
       "      <td>0.00</td>\n",
       "    </tr>\n",
       "    <tr>\n",
       "      <th>25%</th>\n",
       "      <td>6.36</td>\n",
       "      <td>178.41</td>\n",
       "      <td>15515.57</td>\n",
       "      <td>6.16</td>\n",
       "      <td>318.00</td>\n",
       "      <td>365.71</td>\n",
       "      <td>12.09</td>\n",
       "      <td>56.71</td>\n",
       "      <td>3.44</td>\n",
       "      <td>0.00</td>\n",
       "    </tr>\n",
       "    <tr>\n",
       "      <th>50%</th>\n",
       "      <td>7.08</td>\n",
       "      <td>197.22</td>\n",
       "      <td>20596.39</td>\n",
       "      <td>7.11</td>\n",
       "      <td>333.78</td>\n",
       "      <td>421.46</td>\n",
       "      <td>14.23</td>\n",
       "      <td>66.40</td>\n",
       "      <td>3.96</td>\n",
       "      <td>0.00</td>\n",
       "    </tr>\n",
       "    <tr>\n",
       "      <th>75%</th>\n",
       "      <td>7.76</td>\n",
       "      <td>215.64</td>\n",
       "      <td>26912.80</td>\n",
       "      <td>8.07</td>\n",
       "      <td>350.42</td>\n",
       "      <td>481.26</td>\n",
       "      <td>16.54</td>\n",
       "      <td>76.58</td>\n",
       "      <td>4.50</td>\n",
       "      <td>1.00</td>\n",
       "    </tr>\n",
       "    <tr>\n",
       "      <th>max</th>\n",
       "      <td>9.93</td>\n",
       "      <td>272.11</td>\n",
       "      <td>43680.22</td>\n",
       "      <td>10.91</td>\n",
       "      <td>481.03</td>\n",
       "      <td>652.54</td>\n",
       "      <td>23.14</td>\n",
       "      <td>106.37</td>\n",
       "      <td>6.10</td>\n",
       "      <td>1.00</td>\n",
       "    </tr>\n",
       "  </tbody>\n",
       "</table>\n",
       "</div>"
      ],
      "text/plain": [
       "            ph  Hardness    Solids  Chloramines  Sulfate  Conductivity  \\\n",
       "count  2779.00   2779.00   2779.00      2779.00  2779.00       2779.00   \n",
       "mean      7.06    196.66  21504.18         7.12   334.10        425.67   \n",
       "std       1.15     28.17   7956.40         1.43    34.79         79.91   \n",
       "min       4.19    122.54    320.94         3.30   187.17        201.62   \n",
       "25%       6.36    178.41  15515.57         6.16   318.00        365.71   \n",
       "50%       7.08    197.22  20596.39         7.11   333.78        421.46   \n",
       "75%       7.76    215.64  26912.80         8.07   350.42        481.26   \n",
       "max       9.93    272.11  43680.22        10.91   481.03        652.54   \n",
       "\n",
       "       Organic_carbon  Trihalomethanes  Turbidity  Potability  \n",
       "count         2779.00          2779.00    2779.00     2779.00  \n",
       "mean            14.30            66.40       3.97        0.39  \n",
       "std              3.20            14.89       0.76        0.49  \n",
       "min              5.43            27.10       1.87        0.00  \n",
       "25%             12.09            56.71       3.44        0.00  \n",
       "50%             14.23            66.40       3.96        0.00  \n",
       "75%             16.54            76.58       4.50        1.00  \n",
       "max             23.14           106.37       6.10        1.00  "
      ]
     },
     "execution_count": 4,
     "metadata": {},
     "output_type": "execute_result"
    }
   ],
   "source": [
    "#Observamos las principales Estadisticas para el conjunto de datos\n",
    "data_clean.describe().round(2)"
   ]
  },
  {
   "cell_type": "markdown",
   "id": "4a418650",
   "metadata": {},
   "source": [
    "**Resumen de los datos:**\n",
    "Contamos con 2779 observaciones y 9 variables. "
   ]
  },
  {
   "cell_type": "markdown",
   "id": "eb2e4b76",
   "metadata": {},
   "source": [
    "## Selección de las features"
   ]
  },
  {
   "cell_type": "code",
   "execution_count": 5,
   "id": "be670ae8",
   "metadata": {},
   "outputs": [],
   "source": [
    "X = data_clean.drop('Potability', axis=1) #Elimino de mi dataset la variable a predecir"
   ]
  },
  {
   "cell_type": "markdown",
   "id": "ac6ee358",
   "metadata": {},
   "source": [
    "## Definición de la variable Target Potability"
   ]
  },
  {
   "cell_type": "code",
   "execution_count": 6,
   "id": "a4544d4e",
   "metadata": {},
   "outputs": [],
   "source": [
    "y = data_clean.Potability"
   ]
  },
  {
   "cell_type": "markdown",
   "id": "8b9c1115",
   "metadata": {},
   "source": [
    "## Separación de datos en Entrenamiento y Prueba."
   ]
  },
  {
   "cell_type": "code",
   "execution_count": 7,
   "id": "5d3fda1d",
   "metadata": {},
   "outputs": [],
   "source": [
    "#Separo los datos de \"train\" en entrenamiento y prueba para probar los algoritmos\n",
    "X_train, X_test, y_train, y_test = train_test_split(X, y, test_size=0.3, random_state=42)"
   ]
  },
  {
   "cell_type": "code",
   "execution_count": 8,
   "id": "936ed930",
   "metadata": {},
   "outputs": [],
   "source": [
    "#creo un array de las metricas que voy a evaluar en cada modelo\n",
    "metricas=['Accuracy Train','Accuracy Test','Precision Train','Precision Test','Recall Train','Recall Test','F1 Train','F1 Test','Auc']"
   ]
  },
  {
   "cell_type": "markdown",
   "id": "037506fc",
   "metadata": {},
   "source": [
    "# Aplicación del algoritmo Random Forest Classifier"
   ]
  },
  {
   "cell_type": "markdown",
   "id": "6af6559e",
   "metadata": {},
   "source": [
    "## Creación del Algoritmo Random Forest"
   ]
  },
  {
   "cell_type": "code",
   "execution_count": 9,
   "id": "5aab6f9b",
   "metadata": {},
   "outputs": [],
   "source": [
    "modelo_random_forest= RandomForestClassifier(random_state=11, n_estimators=150)"
   ]
  },
  {
   "cell_type": "markdown",
   "id": "69eba9ef",
   "metadata": {},
   "source": [
    "## Entrenamiento del modelo"
   ]
  },
  {
   "cell_type": "code",
   "execution_count": 10,
   "id": "e28c0924",
   "metadata": {},
   "outputs": [
    {
     "data": {
      "text/plain": [
       "RandomForestClassifier(bootstrap=True, ccp_alpha=0.0, class_weight=None,\n",
       "                       criterion='gini', max_depth=None, max_features='auto',\n",
       "                       max_leaf_nodes=None, max_samples=None,\n",
       "                       min_impurity_decrease=0.0, min_impurity_split=None,\n",
       "                       min_samples_leaf=1, min_samples_split=2,\n",
       "                       min_weight_fraction_leaf=0.0, n_estimators=150,\n",
       "                       n_jobs=None, oob_score=False, random_state=11, verbose=0,\n",
       "                       warm_start=False)"
      ]
     },
     "execution_count": 10,
     "metadata": {},
     "output_type": "execute_result"
    }
   ],
   "source": [
    "modelo_random_forest.fit(X_train, y_train)"
   ]
  },
  {
   "cell_type": "code",
   "execution_count": 11,
   "id": "7d86cd0c",
   "metadata": {},
   "outputs": [],
   "source": [
    "y_test_pred_RF = modelo_random_forest.predict(X_test) #Prediccion en Test\n",
    "y_train_pred_RF = modelo_random_forest.predict(X_train) #Prediccion en Train"
   ]
  },
  {
   "cell_type": "markdown",
   "id": "ec21091b",
   "metadata": {},
   "source": [
    "## Matriz de confusión del Modelo Random Forest Classifier"
   ]
  },
  {
   "cell_type": "code",
   "execution_count": 12,
   "id": "ca62be64",
   "metadata": {
    "scrolled": false
   },
   "outputs": [
    {
     "name": "stdout",
     "output_type": "stream",
     "text": [
      "[[458  56]\n",
      " [214 106]]\n"
     ]
    }
   ],
   "source": [
    "#Matriz de Confusión\n",
    "cfRF = confusion_matrix(y_test, y_test_pred_RF)\n",
    "print(cfRF)"
   ]
  },
  {
   "cell_type": "code",
   "execution_count": 13,
   "id": "722eea1a",
   "metadata": {},
   "outputs": [
    {
     "data": {
      "image/png": "[encoded data removed]",
      "text/plain": [
       "<Figure size 432x288 with 2 Axes>"
      ]
     },
     "metadata": {
      "needs_background": "light"
     },
     "output_type": "display_data"
    }
   ],
   "source": [
    "# Gráfico heatmap de matriz de confusión\n",
    "ax = sns.heatmap(cfRF/np.sum(cfRF), annot=True,fmt='.2%', cmap='Blues')\n",
    "ax.set_title('Matriz de Confusión en Porcentajes\\n');\n",
    "ax.set_xlabel('\\n Valores Predichos')\n",
    "ax.set_ylabel('Valores Actuales ');\n",
    "ax.xaxis.set_ticklabels(['Falso','Verdadero'])\n",
    "ax.yaxis.set_ticklabels(['Falso','Verdadero'])\n",
    "plt.show()"
   ]
  },
  {
   "cell_type": "markdown",
   "id": "111f5596",
   "metadata": {},
   "source": [
    "## Métricas para el modelo Modelo Random Forest Classifier"
   ]
  },
  {
   "cell_type": "markdown",
   "id": "17c6e97a",
   "metadata": {},
   "source": [
    "## Accuracy"
   ]
  },
  {
   "cell_type": "code",
   "execution_count": 14,
   "id": "9e680488",
   "metadata": {},
   "outputs": [
    {
     "name": "stdout",
     "output_type": "stream",
     "text": [
      "% de aciertos sobre el set de entrenamiento con Random Forest: 1.0\n",
      "% de aciertos sobre el set de evaluación con Random Forest: 0.6762589928057554\n"
     ]
    }
   ],
   "source": [
    "#Calculo el accuracy en Train\n",
    "train_accuracy_RF = accuracy_score(y_train, y_train_pred_RF)\n",
    "print('% de aciertos sobre el set de entrenamiento con Random Forest:',train_accuracy_RF)\n",
    "#Calculo el accuracy en Test\n",
    "test_accuracy_RF = accuracy_score(y_test, y_test_pred_RF)\n",
    "print('% de aciertos sobre el set de evaluación con Random Forest:',test_accuracy_RF)"
   ]
  },
  {
   "cell_type": "markdown",
   "id": "1a0ba3a8",
   "metadata": {},
   "source": [
    "## Precision"
   ]
  },
  {
   "cell_type": "code",
   "execution_count": 15,
   "id": "b0d2a388",
   "metadata": {},
   "outputs": [
    {
     "name": "stdout",
     "output_type": "stream",
     "text": [
      "Precision Score sobre el set de entrenamiento con Random Forest: 1.0\n",
      "Precision Score sobre el set de evaluación con Random Forest: 0.654320987654321\n"
     ]
    }
   ],
   "source": [
    "#Calculo precision Score en Train\n",
    "train_precision_RF = precision_score(y_train, y_train_pred_RF)\n",
    "print('Precision Score sobre el set de entrenamiento con Random Forest:',train_precision_RF)\n",
    "#Calculo precision Score en Test\n",
    "test_precision_RF = precision_score(y_test, y_test_pred_RF)\n",
    "print('Precision Score sobre el set de evaluación con Random Forest:',test_precision_RF)"
   ]
  },
  {
   "cell_type": "markdown",
   "id": "36a30750",
   "metadata": {},
   "source": [
    "## Recall"
   ]
  },
  {
   "cell_type": "code",
   "execution_count": 16,
   "id": "d2d55631",
   "metadata": {},
   "outputs": [
    {
     "name": "stdout",
     "output_type": "stream",
     "text": [
      "Recall Score sobre el set de entrenamiento con Random Forest: 1.0\n",
      "Recall Score sobre el set de evaluacion con Random Forest: 1.0\n"
     ]
    }
   ],
   "source": [
    "#Calculo recall Score en Train\n",
    "train_recall_RF = recall_score(y_train, y_train_pred_RF)\n",
    "print('Recall Score sobre el set de entrenamiento con Random Forest:',train_recall_RF)\n",
    "#Calculo recall Score en Test\n",
    "test_recall_RF = recall_score(y_train, y_train_pred_RF)\n",
    "print('Recall Score sobre el set de evaluacion con Random Forest:',test_recall_RF)\n"
   ]
  },
  {
   "cell_type": "markdown",
   "id": "c947144f",
   "metadata": {},
   "source": [
    "## F1 Score"
   ]
  },
  {
   "cell_type": "code",
   "execution_count": 17,
   "id": "9df8e24e",
   "metadata": {},
   "outputs": [
    {
     "name": "stdout",
     "output_type": "stream",
     "text": [
      "F1 Score sobre el set de entrenamiento con Random Forest: 1.0\n",
      "F1 Score sobre el set de evaluacion con Random Forest: 1.0\n"
     ]
    }
   ],
   "source": [
    "#Calculo F1 Score en Train\n",
    "train_f1_RF = f1_score(y_train, y_train_pred_RF)\n",
    "print('F1 Score sobre el set de entrenamiento con Random Forest:',train_f1_RF)\n",
    "#Calculo F1 Score en Test\n",
    "test_f1_RF = f1_score(y_train, y_train_pred_RF)\n",
    "print('F1 Score sobre el set de evaluacion con Random Forest:',test_f1_RF)"
   ]
  },
  {
   "cell_type": "markdown",
   "id": "9a410b9e",
   "metadata": {},
   "source": [
    "## CURVA - ROC"
   ]
  },
  {
   "cell_type": "code",
   "execution_count": 18,
   "id": "f06145f5",
   "metadata": {},
   "outputs": [
    {
     "name": "stdout",
     "output_type": "stream",
     "text": [
      "AUC for our classifier is: 0.6691603842412451\n"
     ]
    }
   ],
   "source": [
    "class_probabilities_RF = modelo_random_forest.predict_proba(X_test)\n",
    "preds_RF = class_probabilities_RF[:, 1]\n",
    "fpr_rf, tpr_rf, threshold = roc_curve(y_test, preds_RF)\n",
    "roc_auc_RF = auc(fpr_rf, tpr_rf)\n",
    "# AUC\n",
    "print(f\"AUC for our classifier is: {roc_auc_RF}\")"
   ]
  },
  {
   "cell_type": "markdown",
   "id": "9a14a775",
   "metadata": {},
   "source": [
    "## Gráfica de la Curva ROC"
   ]
  },
  {
   "cell_type": "code",
   "execution_count": 19,
   "id": "a0c2affd",
   "metadata": {},
   "outputs": [
    {
     "data": {
      "image/png": "[encoded data removed]",
      "text/plain": [
       "<Figure size 432x288 with 1 Axes>"
      ]
     },
     "metadata": {
      "needs_background": "light"
     },
     "output_type": "display_data"
    }
   ],
   "source": [
    "plt.title('Gráfico de la Curva ROC')\n",
    "plt.plot(fpr_rf, tpr_rf, 'b', label = 'AUC = %0.2f' % roc_auc_RF)\n",
    "plt.legend(loc = 'lower right')\n",
    "plt.plot([0, 1], [0, 1],'r--')\n",
    "plt.xlim([0, 1])\n",
    "plt.ylim([0, 1])\n",
    "plt.ylabel('Verdaderos Positivos')\n",
    "plt.xlabel('Falsos Positivos')\n",
    "plt.show()"
   ]
  },
  {
   "cell_type": "markdown",
   "id": "ab6af942",
   "metadata": {},
   "source": [
    "# Conclusiones sobre el modelo Random Forest Classifier"
   ]
  },
  {
   "cell_type": "code",
   "execution_count": 20,
   "id": "67912a5f",
   "metadata": {},
   "outputs": [
    {
     "data": {
      "text/plain": [
       "Accuracy Train     1.000000\n",
       "Accuracy Test      0.676259\n",
       "Precision Train    1.000000\n",
       "Precision Test     0.654321\n",
       "Recall Train       1.000000\n",
       "Recall Test        1.000000\n",
       "F1 Train           1.000000\n",
       "F1 Test            1.000000\n",
       "Auc                0.669160\n",
       "dtype: float64"
      ]
     },
     "execution_count": 20,
     "metadata": {},
     "output_type": "execute_result"
    }
   ],
   "source": [
    "metricas_RF = [train_accuracy_RF, test_accuracy_RF,train_precision_RF,test_precision_RF,train_recall_RF,test_recall_RF,train_f1_RF,test_f1_RF,roc_auc_RF] \n",
    "Valores_RF = pd.Series(metricas_RF,index=metricas)\n",
    "Valores_RF"
   ]
  },
  {
   "cell_type": "markdown",
   "id": "db4ccb50",
   "metadata": {},
   "source": [
    "De acuerdo al proceso llevado a cabo sobre el modelo podemos decir que tiene una probabilidad de acierto del 67% sobre test que lo podemos ver tanto por la matriz de confusión como en el rendimiento segun expone el grafico de la curva roc. \n",
    "Respecto de train y test se ve que el modelo overfitea y eso se puede deber a la existencia de outliers mas el desbalanceo de la muestra.\n",
    "Se realizo la aplicacion de PCA para ver si se podia reducir algunas features pero al no tener una gran correlación entre las variables no podemos excluir ni mejorar el rendimiento. \n",
    "La elección del algoritmo prevalecio sobre la evaluación de otros como Arbol de Decisión, KNN, Regresion Logistica y GaussianNB."
   ]
  },
  {
   "cell_type": "code",
   "execution_count": null,
   "id": "4b98a64e",
   "metadata": {},
   "outputs": [],
   "source": []
  }
 ],
 "metadata": {
  "kernelspec": {
   "display_name": "Python 3",
   "language": "python",
   "name": "python3"
  },
  "language_info": {
   "codemirror_mode": {
    "name": "ipython",
    "version": 3
   },
   "file_extension": ".py",
   "mimetype": "text/x-python",
   "name": "python",
   "nbconvert_exporter": "python",
   "pygments_lexer": "ipython3",
   "version": "3.8.8"
  }
 },
 "nbformat": 4,
 "nbformat_minor": 5
}
